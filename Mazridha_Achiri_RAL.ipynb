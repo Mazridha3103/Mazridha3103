{
  "nbformat": 4,
  "nbformat_minor": 0,
  "metadata": {
    "colab": {
      "name": "Mazridha Achiri_RAL.ipynb",
      "provenance": [],
      "collapsed_sections": [],
      "authorship_tag": "ABX9TyNxszpLR7gkNP0LvndXKDnt",
      "include_colab_link": true
    },
    "kernelspec": {
      "name": "python3",
      "display_name": "Python 3"
    },
    "language_info": {
      "name": "python"
    }
  },
  "cells": [
    {
      "cell_type": "markdown",
      "metadata": {
        "id": "view-in-github",
        "colab_type": "text"
      },
      "source": [
        "<a href=\"https://colab.research.google.com/github/Mazridha3103/Mazridha3103/blob/main/Mazridha_Achiri_RAL.ipynb\" target=\"_parent\"><img src=\"https://colab.research.google.com/assets/colab-badge.svg\" alt=\"Open In Colab\"/></a>"
      ]
    },
    {
      "cell_type": "markdown",
      "source": [
        "Rancangan Acak Lengkap (RAL) \n",
        "\n",
        "Rancangan Acak Lengkap merupakan jenis rancangan percobaan dimana perlakuan diberikan secara acak kepada seluruh unit percobaan. Hal ini dapat dilakukan karena lingkungan tempat percobaan diadakan relatif homogen sehingga media atau tempat percobaan tidak memberikan pengaruh berarti pada respon yang diamati.  Untuk melihat apakah hasil respon dari percobaan dengan rancangan acak lengkap ini berbeda atau tidak antar perlakuan, maka kita bisa menggunakan analisis One Way ANOVA. Hipotesis statistik yang diuji pada one way Anova adalah sebagai berikut:\n",
        "\n",
        "H<sub>0</sub>: π<sub>1</sub>=π<sub>2</sub>=π<sub>3</sub>=.....=π<sub>k</sub>\n",
        "\n",
        "H<sub>1</sub>: Minimal terdapat satu rata-rata perlakuan tertentu yang berbeda dengan perlakuan yang lain.\n",
        "\n",
        "Dimana k adalah banyaknya perlakuan. jika pada hasil ANOVA menunjukkan nilai p-value < tingkat kesalahan α (biasanya digunakan 5%) yang kita inginkan, maka kita menolak H<sub>0</sub> sehingga menerima H<sub>1</sub>. Sehingga jika p-value ≥ tingkat kesalahan α (biasanya digunakan 5%) yang kita inginkan, maka kita menerima H<sub>0</sub>.\n"
      ],
      "metadata": {
        "id": "Sc9kf0UAz0zF"
      }
    },
    {
      "cell_type": "markdown",
      "source": [
        "# Input Data\n"
      ],
      "metadata": {
        "id": "zkgtFTuE4n4z"
      }
    },
    {
      "cell_type": "code",
      "source": [
        "# Data analisa pH dibuat dalam bentuk list permasing-masing perlakuan\n",
        "perlakuan1=[2.81,2.81,2.95,2.95] \n",
        "perlakuan2=[2.78,2.78,2.74,2.74]\n",
        "perlakuan3=[2.72,2.74,2.74,2.75]\n",
        "perlakuan4=[2.83,2.80,2.76,2.76]\n",
        "print(perlakuan1,perlakuan2,perlakuan3,perlakuan4)"
      ],
      "metadata": {
        "colab": {
          "base_uri": "https://localhost:8080/"
        },
        "id": "DHTFnx3t4prM",
        "outputId": "d0605387-f5e6-4ca8-af37-b8743a6ee73a"
      },
      "execution_count": null,
      "outputs": [
        {
          "output_type": "stream",
          "name": "stdout",
          "text": [
            "[2.81, 2.81, 2.95, 2.95] [2.78, 2.78, 2.74, 2.74] [2.72, 2.74, 2.74, 2.75] [2.83, 2.8, 2.76, 2.76]\n"
          ]
        }
      ]
    },
    {
      "cell_type": "markdown",
      "source": [
        "Data Uji analisa pH didapatkan dari Uji analisa pH ekstrak Parijoto dengan 4 perlakuan yaitu dengan volume cairan yang berbeda- beda"
      ],
      "metadata": {
        "id": "mFk0JNM01vTp"
      }
    },
    {
      "cell_type": "markdown",
      "source": [
        "# Analisis One Way ANOVA"
      ],
      "metadata": {
        "id": "Kvr7RJqz7A5I"
      }
    },
    {
      "cell_type": "code",
      "source": [
        "# import library scipy.stats dengan nama ss\n",
        "import scipy.stats as ss\n",
        "#panggil fungsi One Way ANOVA\n",
        "ss.f_oneway(perlakuan1,perlakuan2,perlakuan3,perlakuan4)"
      ],
      "metadata": {
        "colab": {
          "base_uri": "https://localhost:8080/"
        },
        "id": "WBtGqG8l7UYA",
        "outputId": "d6948303-e8df-4f01-cb3d-c677e8361f1a"
      },
      "execution_count": null,
      "outputs": [
        {
          "output_type": "execute_result",
          "data": {
            "text/plain": [
              "F_onewayResult(statistic=7.479125248508941, pvalue=0.0043946364497371125)"
            ]
          },
          "metadata": {},
          "execution_count": 5
        }
      ]
    },
    {
      "cell_type": "markdown",
      "source": [
        "Berdasarkan hasil tersebut dapat dilihat bahwa p-value < 0.05, sehingga tolak H<sub>0</sub>. Dapat di interpretasikan bahwa dari 4 perlakuan yang digunakan dalam percobaan, minimal terdapat 1 perlakuan yang hasilnya berbeda dengan perlakuan lainnya."
      ],
      "metadata": {
        "id": "kbDam5Cy9Q1X"
      }
    },
    {
      "cell_type": "markdown",
      "source": [
        "# Uji Lanjut Tukey\n",
        "\n",
        "Jika pada hasil analisis pada One Way ANOVA adalah tolak H<sub>0</sub>, maka dapat disimpulkan bahwa ada minimal salah satu perlakuan yang memberikan hasil rata-rata yang berbeda dengan perlakuan lain. Perbedaan detail terkait hasil rata-rata perlakuan tidak dapat ditentukan secara langsung. Oleh karena itu, diperlukan uji lanjut untuk mengetahui hasil dari rata-rata tersebut berbeda ataukah sama. Salah satu uji lanjut yang sering digunakan adalah Uji Tukey. Hipotesis yang di Uji adalah sebagai berikut :\n",
        "\n",
        "H<sub>0</sub>: π<sub>i</sub>=π<sub>j</sub>\n",
        "\n",
        "H<sub>1</sub>: π<sub>i</sub> \\ne π<sub>j</sub>\n",
        "\n",
        "\n",
        "Jika pada hasil Uji Tukey menunjukkan nilai p-value < tingkat kesalahan α (biasanya digunakan 5%) yang kita inginkan, maka kita menolak H<sub>0</sub> sehingga menerima H<sub>1</sub>. Sehingga jika p-value ≥ tingkat kesalahan α (biasanya digunakan 5%) yang kita inginkan, maka kita menerima H<sub>0</sub>."
      ],
      "metadata": {
        "id": "r8RNmd4c_Tek"
      }
    },
    {
      "cell_type": "code",
      "source": [
        "#import library yang dibutuhkan\n",
        "import pandas as pd\n",
        "import numpy as np\n",
        "import statsmodels.stats.multicomp as ssn\n",
        "df=pd.DataFrame({'score':perlakuan1+perlakuan2+perlakuan3+perlakuan4,'group':np.repeat(['perlakuan1','perlakuan2','perlakuan3','perlakuan4'], repeats=4)})\n",
        "print(df)"
      ],
      "metadata": {
        "colab": {
          "base_uri": "https://localhost:8080/"
        },
        "id": "XFl1VX3U_fcn",
        "outputId": "cdb71a00-00e7-4c5c-e156-eff9a66275c0"
      },
      "execution_count": null,
      "outputs": [
        {
          "output_type": "stream",
          "name": "stdout",
          "text": [
            "    score       group\n",
            "0    2.81  perlakuan1\n",
            "1    2.81  perlakuan1\n",
            "2    2.95  perlakuan1\n",
            "3    2.95  perlakuan1\n",
            "4    2.78  perlakuan2\n",
            "5    2.78  perlakuan2\n",
            "6    2.74  perlakuan2\n",
            "7    2.74  perlakuan2\n",
            "8    2.72  perlakuan3\n",
            "9    2.74  perlakuan3\n",
            "10   2.74  perlakuan3\n",
            "11   2.75  perlakuan3\n",
            "12   2.83  perlakuan4\n",
            "13   2.80  perlakuan4\n",
            "14   2.76  perlakuan4\n",
            "15   2.76  perlakuan4\n"
          ]
        },
        {
          "output_type": "stream",
          "name": "stderr",
          "text": [
            "/usr/local/lib/python3.7/dist-packages/statsmodels/tools/_testing.py:19: FutureWarning: pandas.util.testing is deprecated. Use the functions in the public API at pandas.testing instead.\n",
            "  import pandas.util.testing as tm\n"
          ]
        }
      ]
    },
    {
      "cell_type": "code",
      "source": [
        "hasiltukey=ssn.pairwise_tukeyhsd(endog=df['score'],groups=df[\"group\"],alpha=0.05)\n",
        "print(hasiltukey)"
      ],
      "metadata": {
        "colab": {
          "base_uri": "https://localhost:8080/"
        },
        "id": "Wdaq9VP2Fl5I",
        "outputId": "a8ce8208-6f07-4c5e-acc0-28a14456e44a"
      },
      "execution_count": null,
      "outputs": [
        {
          "output_type": "stream",
          "name": "stdout",
          "text": [
            "    Multiple Comparison of Means - Tukey HSD, FWER=0.05     \n",
            "============================================================\n",
            "  group1     group2   meandiff p-adj   lower   upper  reject\n",
            "------------------------------------------------------------\n",
            "perlakuan1 perlakuan2    -0.12 0.0138 -0.2161 -0.0239   True\n",
            "perlakuan1 perlakuan3  -0.1425 0.0041 -0.2386 -0.0464   True\n",
            "perlakuan1 perlakuan4  -0.0925 0.0606 -0.1886  0.0036  False\n",
            "perlakuan2 perlakuan3  -0.0225 0.8972 -0.1186  0.0736  False\n",
            "perlakuan2 perlakuan4   0.0275 0.8149 -0.0686  0.1236  False\n",
            "perlakuan3 perlakuan4     0.05 0.4446 -0.0461  0.1461  False\n",
            "------------------------------------------------------------\n"
          ]
        }
      ]
    },
    {
      "cell_type": "markdown",
      "source": [
        "Berdasarkan hasil tersebut bahwa kita dapat melihat bahwa:\n",
        "1. Pada perlakuan 1 vs perlakuan 2, dapat dilihat p-value (0.0138) < α (0.05), sehingga terima H<sub>0</sub> yang berarti rata-rata perlakuan 1 berbeda dengan rata-rata perlakuan 2. Perbedaan rata-rata perlakuan 1 dengan rata-rata 0.12 atau negatif mengindikasikan bahwa perlakuan 1 memberikan rata-rata score lebih tinggi daripada perlakuan 2.\n",
        "2. Pada perlakuan 1 vs perlakuan 3, dapat dilihat p-value (0.0041) < α (0.05), sehingga terima H<sub>0</sub> yang berarti rata-rata perlakuan 1 berbeda dengan rata-rata perlakuan 3. Perbedaan rata-rata perlakuan 1 dengan rata-rata 0.1425 atau negatif mengindikasikan bahwa perlakuan 1 memberikan rata-rata score lebih tinggi daripada perlakuan 3.\n",
        "3. Pada perlakuan 1 vs perlakuan 4, dapat dilihat p-value (0.0606) > α (0.05), sehingga terima H<sub>0</sub> yang berarti rata-rata perlakuan 1 sama dengan rata-rata perlakuan 4.\n",
        "4. Pada perlakuan 2 vs perlakuan 3, dapat dilihat p-value (0.8972) > α (0.05), sehingga terima H<sub>0</sub> yang berarti rata-rata perlakuan 2 sama dengan rata-rata perlakuan 3.\n",
        "5. Pada perlakuan 2 vs perlakuan 4, dapat dilihat p-value (0.8149) > α (0.05), sehingga terima H<sub>0</sub> yang berarti rata-rata perlakuan 2 sama dengan rata-rata perlakuan 4.\n",
        "6. Pada perlakuan 3 vs perlakuan 4, dapat dilihat p-value (0.04446) < α (0.05), sehingga tolak H<sub>0</sub> yang berarti rata-rata perlakuan 3 berbeda dengan rata-rata perlakuan 4. Perbedaan rata-rata perlakuan 1 dengan rata-rata 0.05 atau positif mengindikasikan bahwa perlakuan 4 memberikan rata-rata score lebih tinggi daripada perlakuan 3\n",
        "\n",
        "\n",
        "\n",
        "Berdasarkan hasil tersebut kita dapat menyimpulkan bahwa perlakuan 2 dan perlakuan 3, dapat dianggap memberikan hasil skor yang relatif sama (Keduanya kita masukkan dalam kelompok A). Perlakuan 1 dengan perlakuan 4 juga dianggap memberikan hasil skor yang relatif sama (Keduanya kita masukkan kedalam kelompok B). Perlakuan 1 dan perlakuan 4 memberikan hasil skor yang relatif lebih tinggi dari pada perlakuan 2 dan perlakuan 4. jika tujuan kita ingin mendapatkan hasil skor yang paling baik maka kita bisa menggunakan perlakuan 1 ataupun perlakuan 4 \n"
      ],
      "metadata": {
        "id": "cgzt64nYG1RD"
      }
    }
  ]
}